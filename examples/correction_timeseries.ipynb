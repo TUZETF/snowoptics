{
 "cells": [
  {
   "cell_type": "code",
   "execution_count": null,
   "metadata": {},
   "outputs": [],
   "source": [
    "import snowoptics\n",
    "\n",
    "import numpy as np\n",
    "import pandas as pd\n",
    "\n",
    "%matplotlib widget\n",
    "import matplotlib.pyplot as plt"
   ]
  },
  {
   "cell_type": "code",
   "execution_count": null,
   "metadata": {},
   "outputs": [],
   "source": [
    "# generate albedo\n",
    "\n",
    "slope = np.deg2rad(10)\n",
    "aspect = np.deg2rad(130)\n",
    "\n",
    "ssa = 20\n",
    "\n",
    "lon, lat = 0, 45\n",
    "dt = pd.date_range('2020-03-22 08:00:00', '2020-03-22 17:00:00', freq='1H').values\n",
    "sza, saa = snowoptics.compute_sun_position(lon, lat, dt)\n",
    "print(np.cos(sza))\n",
    "\n",
    "wavelengths = np.arange(400, 1100, 5) * 1e-9\n",
    "r_difftot = 0.7 * (400e-9 / wavelengths) ** 3.5\n",
    "\n",
    "albedo = [snowoptics.albedo_P20_slope(wavelengths, sza_, saa_, ssa, r_difftot, slope, aspect, \"small_slope\") for sza_, saa_ in zip(sza, saa)]"
   ]
  },
  {
   "cell_type": "code",
   "execution_count": null,
   "metadata": {},
   "outputs": [],
   "source": [
    "wls_nm = wavelengths * 1e9\n",
    "\n",
    "plt.figure(figsize=(10, 8))\n",
    "for alb in albedo:\n",
    "    plt.plot(wls_nm, alb)\n",
    "    \n",
    "plt.plot(wls_nm, snowoptics.albedo_diffuse_KZ04(wavelengths, ssa), 'k-', lw=2)"
   ]
  },
  {
   "cell_type": "code",
   "execution_count": null,
   "metadata": {},
   "outputs": [],
   "source": [
    "# apply the unconstrained correction\n",
    "\n",
    "albedo_diff, slope, aspect = snowoptics.albedo_timeseries_correction(wavelengths, albedo, r_difftot, sza, saa, constrained=False)\n",
    "\n",
    "plt.plot(wls_nm, albedo_diff, 'x--', alpha=0.4, label=\"unconstrained correction\")\n",
    "plt.legend()\n",
    "np.rad2deg(slope), np.rad2deg(aspect)"
   ]
  },
  {
   "cell_type": "code",
   "execution_count": null,
   "metadata": {},
   "outputs": [],
   "source": [
    "# apply the constrained correction\n",
    "\n",
    "albedo_diff, slope, aspect = snowoptics.albedo_timeseries_correction(wavelengths, albedo, r_difftot, sza, saa, constrained=True)\n",
    "\n",
    "plt.plot(wls_nm, albedo_diff, '^--', alpha=0.4, label=\"unconstrained correction\")\n",
    "plt.legend()\n",
    "np.rad2deg(slope), np.rad2deg(aspect)"
   ]
  }
 ],
 "metadata": {
  "kernelspec": {
   "display_name": "Python 3",
   "language": "python",
   "name": "python3"
  },
  "language_info": {
   "codemirror_mode": {
    "name": "ipython",
    "version": 3
   },
   "file_extension": ".py",
   "mimetype": "text/x-python",
   "name": "python",
   "nbconvert_exporter": "python",
   "pygments_lexer": "ipython3",
   "version": "3.7.6"
  }
 },
 "nbformat": 4,
 "nbformat_minor": 4
}
